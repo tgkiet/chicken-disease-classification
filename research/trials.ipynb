{
 "cells": [
  {
   "cell_type": "code",
   "execution_count": 1,
   "id": "c916d603",
   "metadata": {},
   "outputs": [],
   "source": [
    "d = {\"key\":\"value\", \"key1\":\"value1\"}  # Example dictionary\n"
   ]
  },
  {
   "cell_type": "code",
   "execution_count": 2,
   "id": "99674a5b",
   "metadata": {},
   "outputs": [
    {
     "data": {
      "text/plain": [
       "'value'"
      ]
     },
     "execution_count": 2,
     "metadata": {},
     "output_type": "execute_result"
    }
   ],
   "source": [
    "d['key'] # Accessing a value using a key"
   ]
  },
  {
   "cell_type": "code",
   "execution_count": 3,
   "id": "d9771ce8",
   "metadata": {},
   "outputs": [],
   "source": [
    "#d.key => KeyError: 'key'  # This will raise an error because 'key' is not a valid attribute in a regular dictionary"
   ]
  },
  {
   "cell_type": "markdown",
   "id": "c5914e40",
   "metadata": {},
   "source": [
    "### Dùng ConfigBox để sử dụng key như 1 attribute"
   ]
  },
  {
   "cell_type": "code",
   "execution_count": 4,
   "id": "e7007528",
   "metadata": {},
   "outputs": [],
   "source": [
    "from box import ConfigBox"
   ]
  },
  {
   "cell_type": "code",
   "execution_count": 5,
   "id": "06558a50",
   "metadata": {},
   "outputs": [],
   "source": [
    "d2 = ConfigBox({\"key\":\"value\", \"key1\":\"value1\"})  # Example ConfigBox dictionary"
   ]
  },
  {
   "cell_type": "code",
   "execution_count": 6,
   "id": "f20ba240",
   "metadata": {},
   "outputs": [
    {
     "data": {
      "text/plain": [
       "ConfigBox({'key': 'value', 'key1': 'value1'})"
      ]
     },
     "execution_count": 6,
     "metadata": {},
     "output_type": "execute_result"
    }
   ],
   "source": [
    "d2"
   ]
  },
  {
   "cell_type": "code",
   "execution_count": 7,
   "id": "be158b1b",
   "metadata": {},
   "outputs": [
    {
     "data": {
      "text/plain": [
       "'value'"
      ]
     },
     "execution_count": 7,
     "metadata": {},
     "output_type": "execute_result"
    }
   ],
   "source": [
    "d2.key  # Accessing a value using a key in ConfigBox"
   ]
  },
  {
   "cell_type": "code",
   "execution_count": null,
   "id": "fd9d9ee8",
   "metadata": {},
   "outputs": [],
   "source": []
  }
 ],
 "metadata": {
  "kernelspec": {
   "display_name": "chicken",
   "language": "python",
   "name": "python3"
  },
  "language_info": {
   "codemirror_mode": {
    "name": "ipython",
    "version": 3
   },
   "file_extension": ".py",
   "mimetype": "text/x-python",
   "name": "python",
   "nbconvert_exporter": "python",
   "pygments_lexer": "ipython3",
   "version": "3.11.13"
  }
 },
 "nbformat": 4,
 "nbformat_minor": 5
}
